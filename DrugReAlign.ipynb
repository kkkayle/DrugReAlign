{
 "cells": [
  {
   "cell_type": "markdown",
   "metadata": {},
   "source": [
    "Instructions:\n",
    "Ensure you have all the necessary libraries installed in your Python environment. "
   ]
  },
  {
   "cell_type": "code",
   "execution_count": 5,
   "metadata": {},
   "outputs": [],
   "source": [
    "# Import necessary libraries\n",
    "import pandas as pd\n",
    "import numpy as np\n",
    "from config.PDBInteractionExtractor import PDBInteractionExtractor\n",
    "from config.PDBSummaryExtractor import PDBSummaryExtractor\n",
    "from config.TemplateFiller import TemplateFiller\n",
    "from openai import OpenAI\n"
   ]
  },
  {
   "cell_type": "markdown",
   "metadata": {},
   "source": [
    "Replace \"YOUR_API_KEY\" with your actual OpenAI API key."
   ]
  },
  {
   "cell_type": "code",
   "execution_count": null,
   "metadata": {},
   "outputs": [],
   "source": [
    "# Configure OpenAI API client\n",
    "client = OpenAI(api_key=\"YOUR_API_KEY\")"
   ]
  },
  {
   "cell_type": "markdown",
   "metadata": {},
   "source": [
    "This block initializes the paths to templates, PDB files, and output directories. Make sure these directories exist or adjust the paths according to your settings. (In most cases, you only need to set the upper half of the content)"
   ]
  },
  {
   "cell_type": "code",
   "execution_count": 6,
   "metadata": {},
   "outputs": [],
   "source": [
    "\n",
    "pdb_id = '1A5H'  \n",
    "pdb_path='./pdb/1A5H.pdb'\n",
    "fasta_path='./fasta/1A5H.fasta'\n",
    "##########Please set the above content########################\n",
    "template_path='./config/template.txt'\n",
    "summary_save_path='./summary/'\n",
    "spatial_information_save_path='./spatial_information/'"
   ]
  },
  {
   "cell_type": "code",
   "execution_count": 9,
   "metadata": {},
   "outputs": [
    {
     "name": "stdout",
     "output_type": "stream",
     "text": [
      "Summary already exists for 1A5H.\n",
      "Processed: 1A5H\n"
     ]
    }
   ],
   "source": [
    "summary_extractor = PDBSummaryExtractor(summary_folder=summary_save_path)\n",
    "summary_extractor.fetch_and_save_summary(pdb_id)\n",
    "interation_extractor = PDBInteractionExtractor(pdb_path=pdb_path,spatial_information_folder=spatial_information_save_path)\n",
    "interation_extractor.process_and_save()\n",
    "filler = TemplateFiller(template_path, f'{summary_save_path}', f'{spatial_information_save_path}', fasta_path, f'./question/')\n",
    "filler.process_files(pdb_id)"
   ]
  },
  {
   "cell_type": "markdown",
   "metadata": {},
   "source": [
    "Call Openai api to ask questions. Please find the corresponding answer and drug relocation results at './answer/{your pdb_id}.txt'"
   ]
  },
  {
   "cell_type": "code",
   "execution_count": null,
   "metadata": {},
   "outputs": [],
   "source": [
    "question=open(f'./question/{pdb_id}.txt').read().replace(\"\\n\", \" \")\n",
    "completion = client.chat.completions.create(\n",
    "  model=\"gpt-3.5-turbo\",\n",
    "  messages=[\n",
    "    {\"role\": \"user\", \"content\": question}\n",
    "  ]\n",
    ")\n",
    "answer=completion.choices[0].message.content\n",
    "with open(f'./answer/{pdb_id}.txt','w') as f:\n",
    "    f.write(answer)"
   ]
  }
 ],
 "metadata": {
  "kernelspec": {
   "display_name": "Python 3.7.16 ('pymol')",
   "language": "python",
   "name": "python3"
  },
  "language_info": {
   "codemirror_mode": {
    "name": "ipython",
    "version": 3
   },
   "file_extension": ".py",
   "mimetype": "text/x-python",
   "name": "python",
   "nbconvert_exporter": "python",
   "pygments_lexer": "ipython3",
   "version": "3.7.16"
  },
  "orig_nbformat": 4,
  "vscode": {
   "interpreter": {
    "hash": "487bb7a0bf944550c75a468854b7b52e672769007f4e3ce0ad2623c33eea2e5a"
   }
  }
 },
 "nbformat": 4,
 "nbformat_minor": 2
}
